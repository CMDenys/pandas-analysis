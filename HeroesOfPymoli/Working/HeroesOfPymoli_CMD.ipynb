{
 "cells": [
  {
   "cell_type": "markdown",
   "metadata": {},
   "source": [
    "### Note\n",
    "* Instructions have been included for each segment. You do not have to follow them exactly, but they are included to help you think through the steps."
   ]
  },
  {
   "cell_type": "code",
   "execution_count": null,
   "metadata": {},
   "outputs": [],
   "source": [
    "## Heros of Pymoli\n",
    "## Noticeable Trends\n",
    "\n",
    "#1) Of the total players, 84% are male and 14% are female. female. This makes the amount of male players considerably larger than the amount of female players.\n",
    "#2) Although females purchase less items then males, their average purchase price is higher.  Buying less while spending more might suggest they put more consideration behind purchases.\n",
    "#3) By far the group of players is between the ages of 20-24, which makes up 44.79% of the total player population."
   ]
  },
  {
   "cell_type": "code",
   "execution_count": 156,
   "metadata": {},
   "outputs": [
    {
     "data": {
      "text/html": [
       "<div>\n",
       "<style scoped>\n",
       "    .dataframe tbody tr th:only-of-type {\n",
       "        vertical-align: middle;\n",
       "    }\n",
       "\n",
       "    .dataframe tbody tr th {\n",
       "        vertical-align: top;\n",
       "    }\n",
       "\n",
       "    .dataframe thead th {\n",
       "        text-align: right;\n",
       "    }\n",
       "</style>\n",
       "<table border=\"1\" class=\"dataframe\">\n",
       "  <thead>\n",
       "    <tr style=\"text-align: right;\">\n",
       "      <th></th>\n",
       "      <th>Purchase ID</th>\n",
       "      <th>SN</th>\n",
       "      <th>Age</th>\n",
       "      <th>Gender</th>\n",
       "      <th>Item ID</th>\n",
       "      <th>Item Name</th>\n",
       "      <th>Price</th>\n",
       "    </tr>\n",
       "  </thead>\n",
       "  <tbody>\n",
       "    <tr>\n",
       "      <th>0</th>\n",
       "      <td>0</td>\n",
       "      <td>Lisim78</td>\n",
       "      <td>20</td>\n",
       "      <td>Male</td>\n",
       "      <td>108</td>\n",
       "      <td>Extraction, Quickblade Of Trembling Hands</td>\n",
       "      <td>3.53</td>\n",
       "    </tr>\n",
       "    <tr>\n",
       "      <th>1</th>\n",
       "      <td>1</td>\n",
       "      <td>Lisovynya38</td>\n",
       "      <td>40</td>\n",
       "      <td>Male</td>\n",
       "      <td>143</td>\n",
       "      <td>Frenzied Scimitar</td>\n",
       "      <td>1.56</td>\n",
       "    </tr>\n",
       "    <tr>\n",
       "      <th>2</th>\n",
       "      <td>2</td>\n",
       "      <td>Ithergue48</td>\n",
       "      <td>24</td>\n",
       "      <td>Male</td>\n",
       "      <td>92</td>\n",
       "      <td>Final Critic</td>\n",
       "      <td>4.88</td>\n",
       "    </tr>\n",
       "    <tr>\n",
       "      <th>3</th>\n",
       "      <td>3</td>\n",
       "      <td>Chamassasya86</td>\n",
       "      <td>24</td>\n",
       "      <td>Male</td>\n",
       "      <td>100</td>\n",
       "      <td>Blindscythe</td>\n",
       "      <td>3.27</td>\n",
       "    </tr>\n",
       "    <tr>\n",
       "      <th>4</th>\n",
       "      <td>4</td>\n",
       "      <td>Iskosia90</td>\n",
       "      <td>23</td>\n",
       "      <td>Male</td>\n",
       "      <td>131</td>\n",
       "      <td>Fury</td>\n",
       "      <td>1.44</td>\n",
       "    </tr>\n",
       "  </tbody>\n",
       "</table>\n",
       "</div>"
      ],
      "text/plain": [
       "   Purchase ID             SN  Age Gender  Item ID  \\\n",
       "0            0        Lisim78   20   Male      108   \n",
       "1            1    Lisovynya38   40   Male      143   \n",
       "2            2     Ithergue48   24   Male       92   \n",
       "3            3  Chamassasya86   24   Male      100   \n",
       "4            4      Iskosia90   23   Male      131   \n",
       "\n",
       "                                   Item Name  Price  \n",
       "0  Extraction, Quickblade Of Trembling Hands   3.53  \n",
       "1                          Frenzied Scimitar   1.56  \n",
       "2                               Final Critic   4.88  \n",
       "3                                Blindscythe   3.27  \n",
       "4                                       Fury   1.44  "
      ]
     },
     "execution_count": 156,
     "metadata": {},
     "output_type": "execute_result"
    }
   ],
   "source": [
    "# Dependencies and Setup\n",
    "import pandas as pd\n",
    "import numpy as np\n",
    "\n",
    "\n",
    "pymoli_df = pd.read_csv('../Resources/purchase_data.csv')\n",
    "pymoli_df.head()"
   ]
  },
  {
   "cell_type": "markdown",
   "metadata": {},
   "source": [
    "## Player Count"
   ]
  },
  {
   "cell_type": "code",
   "execution_count": 2,
   "metadata": {},
   "outputs": [
    {
     "data": {
      "text/html": [
       "<div>\n",
       "<style scoped>\n",
       "    .dataframe tbody tr th:only-of-type {\n",
       "        vertical-align: middle;\n",
       "    }\n",
       "\n",
       "    .dataframe tbody tr th {\n",
       "        vertical-align: top;\n",
       "    }\n",
       "\n",
       "    .dataframe thead th {\n",
       "        text-align: right;\n",
       "    }\n",
       "</style>\n",
       "<table border=\"1\" class=\"dataframe\">\n",
       "  <thead>\n",
       "    <tr style=\"text-align: right;\">\n",
       "      <th></th>\n",
       "      <th>Total Players</th>\n",
       "    </tr>\n",
       "  </thead>\n",
       "  <tbody>\n",
       "    <tr>\n",
       "      <th>0</th>\n",
       "      <td>576</td>\n",
       "    </tr>\n",
       "  </tbody>\n",
       "</table>\n",
       "</div>"
      ],
      "text/plain": [
       "   Total Players\n",
       "0            576"
      ]
     },
     "execution_count": 2,
     "metadata": {},
     "output_type": "execute_result"
    }
   ],
   "source": [
    "#calculate total player count.  Use len of SN to remove duplicates:\n",
    "player_count = len(pymoli_df['SN'].value_counts())\n",
    "player_count\n",
    "\n",
    "#create dataframe of total player count:\n",
    "total_players_df = pd.DataFrame({\n",
    "    'Total Players': [player_count]\n",
    "})\n",
    "\n",
    "total_players_df"
   ]
  },
  {
   "cell_type": "markdown",
   "metadata": {},
   "source": [
    "## Purchasing Analysis"
   ]
  },
  {
   "cell_type": "code",
   "execution_count": 115,
   "metadata": {
    "scrolled": true
   },
   "outputs": [
    {
     "data": {
      "text/html": [
       "<div>\n",
       "<style scoped>\n",
       "    .dataframe tbody tr th:only-of-type {\n",
       "        vertical-align: middle;\n",
       "    }\n",
       "\n",
       "    .dataframe tbody tr th {\n",
       "        vertical-align: top;\n",
       "    }\n",
       "\n",
       "    .dataframe thead th {\n",
       "        text-align: right;\n",
       "    }\n",
       "</style>\n",
       "<table border=\"1\" class=\"dataframe\">\n",
       "  <thead>\n",
       "    <tr style=\"text-align: right;\">\n",
       "      <th></th>\n",
       "      <th>Unique Items</th>\n",
       "      <th>Average Item Price</th>\n",
       "      <th>Number of Purchases</th>\n",
       "      <th>Total Revenue</th>\n",
       "    </tr>\n",
       "  </thead>\n",
       "  <tbody>\n",
       "    <tr>\n",
       "      <th>0</th>\n",
       "      <td>179</td>\n",
       "      <td>$3.05</td>\n",
       "      <td>780</td>\n",
       "      <td>$2,379.77</td>\n",
       "    </tr>\n",
       "  </tbody>\n",
       "</table>\n",
       "</div>"
      ],
      "text/plain": [
       "   Unique Items Average Item Price  Number of Purchases Total Revenue\n",
       "0           179              $3.05                  780     $2,379.77"
      ]
     },
     "execution_count": 115,
     "metadata": {},
     "output_type": "execute_result"
    }
   ],
   "source": [
    "#CALCULATIONS FOR BELOW:\n",
    "#Number of unique items\n",
    "#Average price of items\n",
    "#Total Number of Purchases\n",
    "#Total Revenue\n",
    "num_unique_items = len(pymoli_df[\"Item ID\"].unique())\n",
    "avg_price = pymoli_df['Price'].mean()\n",
    "formatted_price = '${:,.2f}'.format(avg_price) \n",
    "purchase_count = pymoli_df['Purchase ID'].count()\n",
    "sum_revenue = pymoli_df['Price'].sum()\n",
    "formatted_rev = '${:,.2f}'.format(sum_revenue)\n",
    "\n",
    "#Create dataframe summary table:\n",
    "purchase_analysis_summary = pd.DataFrame({\n",
    "    'Unique Items':        [num_unique_items],\n",
    "    'Average Item Price':  [formatted_price],\n",
    "    'Number of Purchases': [purchase_count],\n",
    "    'Total Revenue':       [formatted_rev]\n",
    "})\n",
    "\n",
    "purchase_analysis_summary \n"
   ]
  },
  {
   "cell_type": "markdown",
   "metadata": {},
   "source": [
    "## Gender Demographics"
   ]
  },
  {
   "cell_type": "code",
   "execution_count": 120,
   "metadata": {},
   "outputs": [
    {
     "data": {
      "text/html": [
       "<style  type=\"text/css\" >\n",
       "</style><table id=\"T_b0e360c4_55e0_11eb_95b4_1e294030c041\" ><thead>    <tr>        <th class=\"blank level0\" ></th>        <th class=\"col_heading level0 col0\" >Total Count</th>        <th class=\"col_heading level0 col1\" >Percentage of Players</th>    </tr>    <tr>        <th class=\"index_name level0\" >Gender</th>        <th class=\"blank\" ></th>        <th class=\"blank\" ></th>    </tr></thead><tbody>\n",
       "                <tr>\n",
       "                        <th id=\"T_b0e360c4_55e0_11eb_95b4_1e294030c041level0_row0\" class=\"row_heading level0 row0\" >Male</th>\n",
       "                        <td id=\"T_b0e360c4_55e0_11eb_95b4_1e294030c041row0_col0\" class=\"data row0 col0\" >484</td>\n",
       "                        <td id=\"T_b0e360c4_55e0_11eb_95b4_1e294030c041row0_col1\" class=\"data row0 col1\" >84.03%</td>\n",
       "            </tr>\n",
       "            <tr>\n",
       "                        <th id=\"T_b0e360c4_55e0_11eb_95b4_1e294030c041level0_row1\" class=\"row_heading level0 row1\" >Female</th>\n",
       "                        <td id=\"T_b0e360c4_55e0_11eb_95b4_1e294030c041row1_col0\" class=\"data row1 col0\" >81</td>\n",
       "                        <td id=\"T_b0e360c4_55e0_11eb_95b4_1e294030c041row1_col1\" class=\"data row1 col1\" >14.06%</td>\n",
       "            </tr>\n",
       "            <tr>\n",
       "                        <th id=\"T_b0e360c4_55e0_11eb_95b4_1e294030c041level0_row2\" class=\"row_heading level0 row2\" >Other / Non-Disclosed</th>\n",
       "                        <td id=\"T_b0e360c4_55e0_11eb_95b4_1e294030c041row2_col0\" class=\"data row2 col0\" >11</td>\n",
       "                        <td id=\"T_b0e360c4_55e0_11eb_95b4_1e294030c041row2_col1\" class=\"data row2 col1\" >1.91%</td>\n",
       "            </tr>\n",
       "    </tbody></table>"
      ],
      "text/plain": [
       "<pandas.io.formats.style.Styler at 0x7fde8b2512e0>"
      ]
     },
     "execution_count": 120,
     "metadata": {},
     "output_type": "execute_result"
    }
   ],
   "source": [
    "#Group by gender to find total count and percentages of players\n",
    "#Find the gender count for each specific screen name:\n",
    "gender_count = pymoli_df.groupby('Gender')['SN'].nunique()\n",
    "#Find the gender % by dividing against the entire player count:\n",
    "gender_percent = (gender_count/player_count)*100\n",
    "\n",
    "#Create a dataframe summary table\n",
    "gender_demo_df = pd.DataFrame({\n",
    "    'Total Count': gender_count,\n",
    "    'Percentage of Players': gender_percent\n",
    "})\n",
    "#format summary table with appropriate styling\n",
    "formatted_gender_demo_df = gender_demo_df.sort_values([\"Total Count\"], ascending = False).style.format({\n",
    "    \"Percentage of Players\":\"{:.2f}%\"\n",
    "})\n",
    "gender_demo_df_formatted"
   ]
  },
  {
   "cell_type": "markdown",
   "metadata": {},
   "source": [
    "\n",
    "## Purchasing Analysis (Gender)"
   ]
  },
  {
   "cell_type": "code",
   "execution_count": 119,
   "metadata": {},
   "outputs": [
    {
     "data": {
      "text/html": [
       "<style  type=\"text/css\" >\n",
       "</style><table id=\"T_9b19f960_55e0_11eb_95b4_1e294030c041\" ><thead>    <tr>        <th class=\"blank level0\" ></th>        <th class=\"col_heading level0 col0\" >Purchase Count</th>        <th class=\"col_heading level0 col1\" >Average Purchase Price</th>        <th class=\"col_heading level0 col2\" >Total Purchase Value</th>        <th class=\"col_heading level0 col3\" >Average Total Purchase per Person</th>    </tr>    <tr>        <th class=\"index_name level0\" >Gender</th>        <th class=\"blank\" ></th>        <th class=\"blank\" ></th>        <th class=\"blank\" ></th>        <th class=\"blank\" ></th>    </tr></thead><tbody>\n",
       "                <tr>\n",
       "                        <th id=\"T_9b19f960_55e0_11eb_95b4_1e294030c041level0_row0\" class=\"row_heading level0 row0\" >Female</th>\n",
       "                        <td id=\"T_9b19f960_55e0_11eb_95b4_1e294030c041row0_col0\" class=\"data row0 col0\" >113</td>\n",
       "                        <td id=\"T_9b19f960_55e0_11eb_95b4_1e294030c041row0_col1\" class=\"data row0 col1\" >$3.20</td>\n",
       "                        <td id=\"T_9b19f960_55e0_11eb_95b4_1e294030c041row0_col2\" class=\"data row0 col2\" >$361.94</td>\n",
       "                        <td id=\"T_9b19f960_55e0_11eb_95b4_1e294030c041row0_col3\" class=\"data row0 col3\" >4.47%</td>\n",
       "            </tr>\n",
       "            <tr>\n",
       "                        <th id=\"T_9b19f960_55e0_11eb_95b4_1e294030c041level0_row1\" class=\"row_heading level0 row1\" >Male</th>\n",
       "                        <td id=\"T_9b19f960_55e0_11eb_95b4_1e294030c041row1_col0\" class=\"data row1 col0\" >652</td>\n",
       "                        <td id=\"T_9b19f960_55e0_11eb_95b4_1e294030c041row1_col1\" class=\"data row1 col1\" >$3.02</td>\n",
       "                        <td id=\"T_9b19f960_55e0_11eb_95b4_1e294030c041row1_col2\" class=\"data row1 col2\" >$1,967.64</td>\n",
       "                        <td id=\"T_9b19f960_55e0_11eb_95b4_1e294030c041row1_col3\" class=\"data row1 col3\" >4.07%</td>\n",
       "            </tr>\n",
       "            <tr>\n",
       "                        <th id=\"T_9b19f960_55e0_11eb_95b4_1e294030c041level0_row2\" class=\"row_heading level0 row2\" >Other / Non-Disclosed</th>\n",
       "                        <td id=\"T_9b19f960_55e0_11eb_95b4_1e294030c041row2_col0\" class=\"data row2 col0\" >15</td>\n",
       "                        <td id=\"T_9b19f960_55e0_11eb_95b4_1e294030c041row2_col1\" class=\"data row2 col1\" >$3.35</td>\n",
       "                        <td id=\"T_9b19f960_55e0_11eb_95b4_1e294030c041row2_col2\" class=\"data row2 col2\" >$50.19</td>\n",
       "                        <td id=\"T_9b19f960_55e0_11eb_95b4_1e294030c041row2_col3\" class=\"data row2 col3\" >4.56%</td>\n",
       "            </tr>\n",
       "    </tbody></table>"
      ],
      "text/plain": [
       "<pandas.io.formats.style.Styler at 0x7fde8c83e460>"
      ]
     },
     "execution_count": 119,
     "metadata": {},
     "output_type": "execute_result"
    }
   ],
   "source": [
    "#Group by gender and run formulas for count, average, and total purchases:\n",
    "gender_purchase_count = pymoli_df.groupby('Gender').count()['Price']\n",
    "average_purchase_price = pymoli_df.groupby('Gender').mean()['Price']\n",
    "total_purchase = pymoli_df.groupby('Gender').sum()['Price'] \n",
    "\n",
    "#average purchase total per person by Gender:\n",
    "avg_total_purchase_per_person = total_purchase / gender_count\n",
    "\n",
    "\n",
    "#Create a dataframe summary table:\n",
    "purchase_analysis_df = pd.DataFrame({\n",
    "    'Purchase Count': gender_purchase_count,\n",
    "    'Average Purchase Price': average_purchase_price,\n",
    "    'Total Purchase Value': total_purchase,\n",
    "    'Average Total Purchase per Person': avg_total_purchase_per_person\n",
    "})\n",
    "\n",
    "#format summary table with appropriate styling:\n",
    "formatted_purchase_analysis_df = purchase_analysis_df.style.format({\n",
    "    'Average Purchase Price': \"${:,.2f}\",\n",
    "    'Total Purchase Value': \"${:,.2f}\",\n",
    "    'Average Total Purchase per Person': \"{:,.2f}%\"\n",
    "})\n",
    "\n",
    "formatted_purchase_analysis_df"
   ]
  },
  {
   "cell_type": "markdown",
   "metadata": {},
   "source": [
    "## Age Demographics"
   ]
  },
  {
   "cell_type": "code",
   "execution_count": 24,
   "metadata": {},
   "outputs": [
    {
     "name": "stdout",
     "output_type": "stream",
     "text": [
      "7\n",
      "45\n"
     ]
    }
   ],
   "source": [
    "#Establish bins for ages:\n",
    "#find min and max:\n",
    "print(pymoli_df['Age'].min())\n",
    "print(pymoli_df['Age'].max())\n",
    "\n",
    "#Create bins and associated labels:\n",
    "bins = [0, 9, 14, 19, 24, 29, 34, 39, 100]\n",
    "group_labels = ['<10', '10 to 14', '15 to 19', '20 to 24', '25 to 29', '30 to 34', '35 to 39', '40+' ]\n",
    "\n",
    "#Slice data and put into bins:\n",
    "pd.cut(pymoli_df['Age'], bins, labels=group_labels).head()\n",
    "\n",
    "pymoli_df['Age Group'] = pd.cut(pymoli_df['Age'], bins, labels=group_labels)\n"
   ]
  },
  {
   "cell_type": "code",
   "execution_count": 128,
   "metadata": {
    "scrolled": true
   },
   "outputs": [
    {
     "data": {
      "text/html": [
       "<style  type=\"text/css\" >\n",
       "</style><table id=\"T_14a910f8_55e2_11eb_95b4_1e294030c041\" ><thead>    <tr>        <th class=\"blank level0\" ></th>        <th class=\"col_heading level0 col0\" >Total Count</th>        <th class=\"col_heading level0 col1\" >Percentage of Players</th>    </tr>    <tr>        <th class=\"index_name level0\" >Age Group</th>        <th class=\"blank\" ></th>        <th class=\"blank\" ></th>    </tr></thead><tbody>\n",
       "                <tr>\n",
       "                        <th id=\"T_14a910f8_55e2_11eb_95b4_1e294030c041level0_row0\" class=\"row_heading level0 row0\" ><10</th>\n",
       "                        <td id=\"T_14a910f8_55e2_11eb_95b4_1e294030c041row0_col0\" class=\"data row0 col0\" >17</td>\n",
       "                        <td id=\"T_14a910f8_55e2_11eb_95b4_1e294030c041row0_col1\" class=\"data row0 col1\" >2.95%</td>\n",
       "            </tr>\n",
       "            <tr>\n",
       "                        <th id=\"T_14a910f8_55e2_11eb_95b4_1e294030c041level0_row1\" class=\"row_heading level0 row1\" >10 to 14</th>\n",
       "                        <td id=\"T_14a910f8_55e2_11eb_95b4_1e294030c041row1_col0\" class=\"data row1 col0\" >22</td>\n",
       "                        <td id=\"T_14a910f8_55e2_11eb_95b4_1e294030c041row1_col1\" class=\"data row1 col1\" >3.82%</td>\n",
       "            </tr>\n",
       "            <tr>\n",
       "                        <th id=\"T_14a910f8_55e2_11eb_95b4_1e294030c041level0_row2\" class=\"row_heading level0 row2\" >15 to 19</th>\n",
       "                        <td id=\"T_14a910f8_55e2_11eb_95b4_1e294030c041row2_col0\" class=\"data row2 col0\" >107</td>\n",
       "                        <td id=\"T_14a910f8_55e2_11eb_95b4_1e294030c041row2_col1\" class=\"data row2 col1\" >18.58%</td>\n",
       "            </tr>\n",
       "            <tr>\n",
       "                        <th id=\"T_14a910f8_55e2_11eb_95b4_1e294030c041level0_row3\" class=\"row_heading level0 row3\" >20 to 24</th>\n",
       "                        <td id=\"T_14a910f8_55e2_11eb_95b4_1e294030c041row3_col0\" class=\"data row3 col0\" >258</td>\n",
       "                        <td id=\"T_14a910f8_55e2_11eb_95b4_1e294030c041row3_col1\" class=\"data row3 col1\" >44.79%</td>\n",
       "            </tr>\n",
       "            <tr>\n",
       "                        <th id=\"T_14a910f8_55e2_11eb_95b4_1e294030c041level0_row4\" class=\"row_heading level0 row4\" >25 to 29</th>\n",
       "                        <td id=\"T_14a910f8_55e2_11eb_95b4_1e294030c041row4_col0\" class=\"data row4 col0\" >77</td>\n",
       "                        <td id=\"T_14a910f8_55e2_11eb_95b4_1e294030c041row4_col1\" class=\"data row4 col1\" >13.37%</td>\n",
       "            </tr>\n",
       "            <tr>\n",
       "                        <th id=\"T_14a910f8_55e2_11eb_95b4_1e294030c041level0_row5\" class=\"row_heading level0 row5\" >30 to 34</th>\n",
       "                        <td id=\"T_14a910f8_55e2_11eb_95b4_1e294030c041row5_col0\" class=\"data row5 col0\" >52</td>\n",
       "                        <td id=\"T_14a910f8_55e2_11eb_95b4_1e294030c041row5_col1\" class=\"data row5 col1\" >9.03%</td>\n",
       "            </tr>\n",
       "            <tr>\n",
       "                        <th id=\"T_14a910f8_55e2_11eb_95b4_1e294030c041level0_row6\" class=\"row_heading level0 row6\" >35 to 39</th>\n",
       "                        <td id=\"T_14a910f8_55e2_11eb_95b4_1e294030c041row6_col0\" class=\"data row6 col0\" >31</td>\n",
       "                        <td id=\"T_14a910f8_55e2_11eb_95b4_1e294030c041row6_col1\" class=\"data row6 col1\" >5.38%</td>\n",
       "            </tr>\n",
       "            <tr>\n",
       "                        <th id=\"T_14a910f8_55e2_11eb_95b4_1e294030c041level0_row7\" class=\"row_heading level0 row7\" >40+</th>\n",
       "                        <td id=\"T_14a910f8_55e2_11eb_95b4_1e294030c041row7_col0\" class=\"data row7 col0\" >12</td>\n",
       "                        <td id=\"T_14a910f8_55e2_11eb_95b4_1e294030c041row7_col1\" class=\"data row7 col1\" >2.08%</td>\n",
       "            </tr>\n",
       "    </tbody></table>"
      ],
      "text/plain": [
       "<pandas.io.formats.style.Styler at 0x7fde8c8e6d30>"
      ]
     },
     "execution_count": 128,
     "metadata": {},
     "output_type": "execute_result"
    }
   ],
   "source": [
    "#Create a groupby object based on Age Group:\n",
    "pymoli_group = pymoli_df.groupby('Age Group')['SN'].nunique()\n",
    "percent_pymoli_group = (pymoli_group / player_count)*100\n",
    "\n",
    "#Create a dataframe summary table:\n",
    "age_demographics_df = pd.DataFrame({\n",
    "    'Total Count': pymoli_group,\n",
    "    'Percentage of Players': percent_pymoli_group\n",
    "})\n",
    "\n",
    "#format summary table with appropriate styling:\n",
    "formatted_age_demographics_df = age_demographics_df.style.format({\n",
    "    'Percentage of Players': '{:.2f}%'\n",
    "})  \n",
    "\n",
    "formatted_age_demographics_df"
   ]
  },
  {
   "cell_type": "markdown",
   "metadata": {},
   "source": [
    "## Purchasing Analysis (Age)"
   ]
  },
  {
   "cell_type": "code",
   "execution_count": 123,
   "metadata": {
    "scrolled": false
   },
   "outputs": [
    {
     "data": {
      "text/html": [
       "<style  type=\"text/css\" >\n",
       "</style><table id=\"T_6a1849e2_55e1_11eb_95b4_1e294030c041\" ><thead>    <tr>        <th class=\"blank level0\" ></th>        <th class=\"col_heading level0 col0\" >Purchase Count</th>        <th class=\"col_heading level0 col1\" >Average Purchase Price</th>        <th class=\"col_heading level0 col2\" >Total Purchase Value</th>        <th class=\"col_heading level0 col3\" >Avg Total Purchase per Person</th>    </tr>    <tr>        <th class=\"index_name level0\" >Age Group</th>        <th class=\"blank\" ></th>        <th class=\"blank\" ></th>        <th class=\"blank\" ></th>        <th class=\"blank\" ></th>    </tr></thead><tbody>\n",
       "                <tr>\n",
       "                        <th id=\"T_6a1849e2_55e1_11eb_95b4_1e294030c041level0_row0\" class=\"row_heading level0 row0\" ><10</th>\n",
       "                        <td id=\"T_6a1849e2_55e1_11eb_95b4_1e294030c041row0_col0\" class=\"data row0 col0\" >23</td>\n",
       "                        <td id=\"T_6a1849e2_55e1_11eb_95b4_1e294030c041row0_col1\" class=\"data row0 col1\" >$3.35</td>\n",
       "                        <td id=\"T_6a1849e2_55e1_11eb_95b4_1e294030c041row0_col2\" class=\"data row0 col2\" >$77.13</td>\n",
       "                        <td id=\"T_6a1849e2_55e1_11eb_95b4_1e294030c041row0_col3\" class=\"data row0 col3\" >$4.54</td>\n",
       "            </tr>\n",
       "            <tr>\n",
       "                        <th id=\"T_6a1849e2_55e1_11eb_95b4_1e294030c041level0_row1\" class=\"row_heading level0 row1\" >10 to 14</th>\n",
       "                        <td id=\"T_6a1849e2_55e1_11eb_95b4_1e294030c041row1_col0\" class=\"data row1 col0\" >28</td>\n",
       "                        <td id=\"T_6a1849e2_55e1_11eb_95b4_1e294030c041row1_col1\" class=\"data row1 col1\" >$2.96</td>\n",
       "                        <td id=\"T_6a1849e2_55e1_11eb_95b4_1e294030c041row1_col2\" class=\"data row1 col2\" >$82.78</td>\n",
       "                        <td id=\"T_6a1849e2_55e1_11eb_95b4_1e294030c041row1_col3\" class=\"data row1 col3\" >$3.76</td>\n",
       "            </tr>\n",
       "            <tr>\n",
       "                        <th id=\"T_6a1849e2_55e1_11eb_95b4_1e294030c041level0_row2\" class=\"row_heading level0 row2\" >15 to 19</th>\n",
       "                        <td id=\"T_6a1849e2_55e1_11eb_95b4_1e294030c041row2_col0\" class=\"data row2 col0\" >136</td>\n",
       "                        <td id=\"T_6a1849e2_55e1_11eb_95b4_1e294030c041row2_col1\" class=\"data row2 col1\" >$3.04</td>\n",
       "                        <td id=\"T_6a1849e2_55e1_11eb_95b4_1e294030c041row2_col2\" class=\"data row2 col2\" >$412.89</td>\n",
       "                        <td id=\"T_6a1849e2_55e1_11eb_95b4_1e294030c041row2_col3\" class=\"data row2 col3\" >$3.86</td>\n",
       "            </tr>\n",
       "            <tr>\n",
       "                        <th id=\"T_6a1849e2_55e1_11eb_95b4_1e294030c041level0_row3\" class=\"row_heading level0 row3\" >20 to 24</th>\n",
       "                        <td id=\"T_6a1849e2_55e1_11eb_95b4_1e294030c041row3_col0\" class=\"data row3 col0\" >365</td>\n",
       "                        <td id=\"T_6a1849e2_55e1_11eb_95b4_1e294030c041row3_col1\" class=\"data row3 col1\" >$3.05</td>\n",
       "                        <td id=\"T_6a1849e2_55e1_11eb_95b4_1e294030c041row3_col2\" class=\"data row3 col2\" >$1,114.06</td>\n",
       "                        <td id=\"T_6a1849e2_55e1_11eb_95b4_1e294030c041row3_col3\" class=\"data row3 col3\" >$4.32</td>\n",
       "            </tr>\n",
       "            <tr>\n",
       "                        <th id=\"T_6a1849e2_55e1_11eb_95b4_1e294030c041level0_row4\" class=\"row_heading level0 row4\" >25 to 29</th>\n",
       "                        <td id=\"T_6a1849e2_55e1_11eb_95b4_1e294030c041row4_col0\" class=\"data row4 col0\" >101</td>\n",
       "                        <td id=\"T_6a1849e2_55e1_11eb_95b4_1e294030c041row4_col1\" class=\"data row4 col1\" >$2.90</td>\n",
       "                        <td id=\"T_6a1849e2_55e1_11eb_95b4_1e294030c041row4_col2\" class=\"data row4 col2\" >$293.00</td>\n",
       "                        <td id=\"T_6a1849e2_55e1_11eb_95b4_1e294030c041row4_col3\" class=\"data row4 col3\" >$3.81</td>\n",
       "            </tr>\n",
       "            <tr>\n",
       "                        <th id=\"T_6a1849e2_55e1_11eb_95b4_1e294030c041level0_row5\" class=\"row_heading level0 row5\" >30 to 34</th>\n",
       "                        <td id=\"T_6a1849e2_55e1_11eb_95b4_1e294030c041row5_col0\" class=\"data row5 col0\" >73</td>\n",
       "                        <td id=\"T_6a1849e2_55e1_11eb_95b4_1e294030c041row5_col1\" class=\"data row5 col1\" >$2.93</td>\n",
       "                        <td id=\"T_6a1849e2_55e1_11eb_95b4_1e294030c041row5_col2\" class=\"data row5 col2\" >$214.00</td>\n",
       "                        <td id=\"T_6a1849e2_55e1_11eb_95b4_1e294030c041row5_col3\" class=\"data row5 col3\" >$4.12</td>\n",
       "            </tr>\n",
       "            <tr>\n",
       "                        <th id=\"T_6a1849e2_55e1_11eb_95b4_1e294030c041level0_row6\" class=\"row_heading level0 row6\" >35 to 39</th>\n",
       "                        <td id=\"T_6a1849e2_55e1_11eb_95b4_1e294030c041row6_col0\" class=\"data row6 col0\" >41</td>\n",
       "                        <td id=\"T_6a1849e2_55e1_11eb_95b4_1e294030c041row6_col1\" class=\"data row6 col1\" >$3.60</td>\n",
       "                        <td id=\"T_6a1849e2_55e1_11eb_95b4_1e294030c041row6_col2\" class=\"data row6 col2\" >$147.67</td>\n",
       "                        <td id=\"T_6a1849e2_55e1_11eb_95b4_1e294030c041row6_col3\" class=\"data row6 col3\" >$4.76</td>\n",
       "            </tr>\n",
       "            <tr>\n",
       "                        <th id=\"T_6a1849e2_55e1_11eb_95b4_1e294030c041level0_row7\" class=\"row_heading level0 row7\" >40+</th>\n",
       "                        <td id=\"T_6a1849e2_55e1_11eb_95b4_1e294030c041row7_col0\" class=\"data row7 col0\" >13</td>\n",
       "                        <td id=\"T_6a1849e2_55e1_11eb_95b4_1e294030c041row7_col1\" class=\"data row7 col1\" >$2.94</td>\n",
       "                        <td id=\"T_6a1849e2_55e1_11eb_95b4_1e294030c041row7_col2\" class=\"data row7 col2\" >$38.24</td>\n",
       "                        <td id=\"T_6a1849e2_55e1_11eb_95b4_1e294030c041row7_col3\" class=\"data row7 col3\" >$3.19</td>\n",
       "            </tr>\n",
       "    </tbody></table>"
      ],
      "text/plain": [
       "<pandas.io.formats.style.Styler at 0x7fde8b6edf40>"
      ]
     },
     "execution_count": 123,
     "metadata": {},
     "output_type": "execute_result"
    }
   ],
   "source": [
    "#Bin the purchase_data data frame by age\n",
    "bins = [0, 9, 14, 19, 24, 29, 34, 39, 100]\n",
    "group_labels = ['<10', '10 to 14', '15 to 19', '20 to 24', '25 to 29', '30 to 34', '35 to 39', '40+' ]\n",
    "\n",
    "#Slice data and put into bins\n",
    "pd.cut(pymoli_df['Age'], bins, labels=group_labels).head()\n",
    "\n",
    "pymoli_df['Age Group'] = pd.cut(pymoli_df['Age'], bins, labels=group_labels)\n",
    "\n",
    "#purchase Count\n",
    "purchase_per_person = pymoli_df.groupby('Age Group')['Purchase ID'].count() #Correct\n",
    "#Average Purchase Price\n",
    "avg_purchase_per_person = pymoli_df.groupby('Age Group')['Price'].mean() #correct\n",
    "#Total Purchase Value\n",
    "total_purchase_value = pymoli_df.groupby('Age Group')['Price'].sum() #correct\n",
    "#Avg Total Purchase per Person\n",
    "average_total_purchase_value = total_purchase_value / pymoli_group #correct\n",
    "\n",
    "#Create dataframe summary table:\n",
    "purchasing_analysis_df = pd.DataFrame({\n",
    "    'Purchase Count': purchase_per_person, \n",
    "    'Average Purchase Price': avg_purchase_per_person,\n",
    "    'Total Purchase Value': total_purchase_value,\n",
    "    'Avg Total Purchase per Person': average_total_purchase_value\n",
    "})\n",
    "\n",
    "#format summary table with appropriate styling:\n",
    "formatted_purchasing_analysis_df = purchasing_analysis_df.style.format({\n",
    "    'Average Purchase Price': \"${:,.2f}\",\n",
    "    'Total Purchase Value': \"${:,.2f}\",\n",
    "    'Avg Total Purchase per Person': \"${:,.2f}\"\n",
    "})\n",
    "formatted_purchasing_analysis_df"
   ]
  },
  {
   "cell_type": "markdown",
   "metadata": {},
   "source": [
    "## Top Spenders"
   ]
  },
  {
   "cell_type": "code",
   "execution_count": 157,
   "metadata": {
    "scrolled": true
   },
   "outputs": [
    {
     "data": {
      "text/html": [
       "<style  type=\"text/css\" >\n",
       "</style><table id=\"T_d1eea53a_55ea_11eb_95b4_1e294030c041\" ><thead>    <tr>        <th class=\"blank level0\" ></th>        <th class=\"col_heading level0 col0\" >Purchase Count</th>        <th class=\"col_heading level0 col1\" >Average Purchase Price</th>        <th class=\"col_heading level0 col2\" >Total Purchase Value</th>    </tr>    <tr>        <th class=\"index_name level0\" >SN</th>        <th class=\"blank\" ></th>        <th class=\"blank\" ></th>        <th class=\"blank\" ></th>    </tr></thead><tbody>\n",
       "                <tr>\n",
       "                        <th id=\"T_d1eea53a_55ea_11eb_95b4_1e294030c041level0_row0\" class=\"row_heading level0 row0\" >Lisosia93</th>\n",
       "                        <td id=\"T_d1eea53a_55ea_11eb_95b4_1e294030c041row0_col0\" class=\"data row0 col0\" >5</td>\n",
       "                        <td id=\"T_d1eea53a_55ea_11eb_95b4_1e294030c041row0_col1\" class=\"data row0 col1\" >$3.79</td>\n",
       "                        <td id=\"T_d1eea53a_55ea_11eb_95b4_1e294030c041row0_col2\" class=\"data row0 col2\" >$18.96</td>\n",
       "            </tr>\n",
       "            <tr>\n",
       "                        <th id=\"T_d1eea53a_55ea_11eb_95b4_1e294030c041level0_row1\" class=\"row_heading level0 row1\" >Idastidru52</th>\n",
       "                        <td id=\"T_d1eea53a_55ea_11eb_95b4_1e294030c041row1_col0\" class=\"data row1 col0\" >4</td>\n",
       "                        <td id=\"T_d1eea53a_55ea_11eb_95b4_1e294030c041row1_col1\" class=\"data row1 col1\" >$3.86</td>\n",
       "                        <td id=\"T_d1eea53a_55ea_11eb_95b4_1e294030c041row1_col2\" class=\"data row1 col2\" >$15.45</td>\n",
       "            </tr>\n",
       "            <tr>\n",
       "                        <th id=\"T_d1eea53a_55ea_11eb_95b4_1e294030c041level0_row2\" class=\"row_heading level0 row2\" >Chamjask73</th>\n",
       "                        <td id=\"T_d1eea53a_55ea_11eb_95b4_1e294030c041row2_col0\" class=\"data row2 col0\" >3</td>\n",
       "                        <td id=\"T_d1eea53a_55ea_11eb_95b4_1e294030c041row2_col1\" class=\"data row2 col1\" >$4.61</td>\n",
       "                        <td id=\"T_d1eea53a_55ea_11eb_95b4_1e294030c041row2_col2\" class=\"data row2 col2\" >$13.83</td>\n",
       "            </tr>\n",
       "            <tr>\n",
       "                        <th id=\"T_d1eea53a_55ea_11eb_95b4_1e294030c041level0_row3\" class=\"row_heading level0 row3\" >Iral74</th>\n",
       "                        <td id=\"T_d1eea53a_55ea_11eb_95b4_1e294030c041row3_col0\" class=\"data row3 col0\" >4</td>\n",
       "                        <td id=\"T_d1eea53a_55ea_11eb_95b4_1e294030c041row3_col1\" class=\"data row3 col1\" >$3.40</td>\n",
       "                        <td id=\"T_d1eea53a_55ea_11eb_95b4_1e294030c041row3_col2\" class=\"data row3 col2\" >$13.62</td>\n",
       "            </tr>\n",
       "            <tr>\n",
       "                        <th id=\"T_d1eea53a_55ea_11eb_95b4_1e294030c041level0_row4\" class=\"row_heading level0 row4\" >Iskadarya95</th>\n",
       "                        <td id=\"T_d1eea53a_55ea_11eb_95b4_1e294030c041row4_col0\" class=\"data row4 col0\" >3</td>\n",
       "                        <td id=\"T_d1eea53a_55ea_11eb_95b4_1e294030c041row4_col1\" class=\"data row4 col1\" >$4.37</td>\n",
       "                        <td id=\"T_d1eea53a_55ea_11eb_95b4_1e294030c041row4_col2\" class=\"data row4 col2\" >$13.10</td>\n",
       "            </tr>\n",
       "    </tbody></table>"
      ],
      "text/plain": [
       "<pandas.io.formats.style.Styler at 0x7fde8c943580>"
      ]
     },
     "execution_count": 157,
     "metadata": {},
     "output_type": "execute_result"
    }
   ],
   "source": [
    "#Group by screen name:\n",
    "spender_data = pymoli_df.groupby('SN')\n",
    "#with screen name grouped, run formulas for count, average, and total purchases:\n",
    "spender_purchase_count = spender_data['Purchase ID'].count() \n",
    "spender_avg_purchase_price = spender_data['Price'].mean()\n",
    "spender_total_purchase_value = spender_data['Price'].sum() \n",
    "#create data frame summary table:\n",
    "top_spenders_df = pd.DataFrame({\n",
    "    'Purchase Count': spender_purchase_count,\n",
    "    'Average Purchase Price': spender_avg_purchase_price,\n",
    "    'Total Purchase Value': spender_total_purchase_value\n",
    "})\n",
    "\n",
    "\n",
    "#sort Total Purchase values as descending:\n",
    "sorted_top_spenders_df = top_spenders_df.sort_values(['Total Purchase Value'], ascending=False).head()\n",
    "\n",
    "#Format summary table with appropriate styling:\n",
    "formatted_top_spenders_df = sorted_top_spenders_df.style.format({\n",
    "    'Average Purchase Price': \"${:,.2f}\",\n",
    "    'Total Purchase Value': \"${:,.2f}\"\n",
    "})\n",
    "\n",
    "formatted_top_spenders_df\n"
   ]
  },
  {
   "cell_type": "markdown",
   "metadata": {},
   "source": [
    "## Most Popular Items"
   ]
  },
  {
   "cell_type": "code",
   "execution_count": 90,
   "metadata": {
    "scrolled": false
   },
   "outputs": [
    {
     "data": {
      "text/plain": [
       "Index(['Purchase ID', 'SN', 'Age', 'Gender', 'Item ID', 'Item Name', 'Price',\n",
       "       'Age Group'],\n",
       "      dtype='object')"
      ]
     },
     "execution_count": 90,
     "metadata": {},
     "output_type": "execute_result"
    }
   ],
   "source": [
    "#retrieve columns\n",
    "#list available columns\n",
    "pymoli_df.columns"
   ]
  },
  {
   "cell_type": "code",
   "execution_count": 95,
   "metadata": {},
   "outputs": [],
   "source": [
    "#retrieve columns; Item ID, Item Name, Item Price\n",
    "retrieved_columns = pymoli_df[['Item ID', 'Item Name', 'Price']]\n",
    "#group by Item ID and Item Name\n",
    "items_grouped = retrieved_columns.groupby(['Item ID', 'Item Name'])\n"
   ]
  },
  {
   "cell_type": "code",
   "execution_count": 154,
   "metadata": {},
   "outputs": [
    {
     "data": {
      "text/html": [
       "<style  type=\"text/css\" >\n",
       "</style><table id=\"T_9623489e_55e5_11eb_95b4_1e294030c041\" ><thead>    <tr>        <th class=\"blank\" ></th>        <th class=\"blank level0\" ></th>        <th class=\"col_heading level0 col0\" >Purchase Count</th>        <th class=\"col_heading level0 col1\" >Item Price</th>        <th class=\"col_heading level0 col2\" >Total Purchase Value</th>    </tr>    <tr>        <th class=\"index_name level0\" >Item ID</th>        <th class=\"index_name level1\" >Item Name</th>        <th class=\"blank\" ></th>        <th class=\"blank\" ></th>        <th class=\"blank\" ></th>    </tr></thead><tbody>\n",
       "                <tr>\n",
       "                        <th id=\"T_9623489e_55e5_11eb_95b4_1e294030c041level0_row0\" class=\"row_heading level0 row0\" >92</th>\n",
       "                        <th id=\"T_9623489e_55e5_11eb_95b4_1e294030c041level1_row0\" class=\"row_heading level1 row0\" >Final Critic</th>\n",
       "                        <td id=\"T_9623489e_55e5_11eb_95b4_1e294030c041row0_col0\" class=\"data row0 col0\" >13</td>\n",
       "                        <td id=\"T_9623489e_55e5_11eb_95b4_1e294030c041row0_col1\" class=\"data row0 col1\" >$4.61</td>\n",
       "                        <td id=\"T_9623489e_55e5_11eb_95b4_1e294030c041row0_col2\" class=\"data row0 col2\" >$59.99</td>\n",
       "            </tr>\n",
       "            <tr>\n",
       "                        <th id=\"T_9623489e_55e5_11eb_95b4_1e294030c041level0_row1\" class=\"row_heading level0 row1\" >178</th>\n",
       "                        <th id=\"T_9623489e_55e5_11eb_95b4_1e294030c041level1_row1\" class=\"row_heading level1 row1\" >Oathbreaker, Last Hope of the Breaking Storm</th>\n",
       "                        <td id=\"T_9623489e_55e5_11eb_95b4_1e294030c041row1_col0\" class=\"data row1 col0\" >12</td>\n",
       "                        <td id=\"T_9623489e_55e5_11eb_95b4_1e294030c041row1_col1\" class=\"data row1 col1\" >$4.23</td>\n",
       "                        <td id=\"T_9623489e_55e5_11eb_95b4_1e294030c041row1_col2\" class=\"data row1 col2\" >$50.76</td>\n",
       "            </tr>\n",
       "            <tr>\n",
       "                        <th id=\"T_9623489e_55e5_11eb_95b4_1e294030c041level0_row2\" class=\"row_heading level0 row2\" >145</th>\n",
       "                        <th id=\"T_9623489e_55e5_11eb_95b4_1e294030c041level1_row2\" class=\"row_heading level1 row2\" >Fiery Glass Crusader</th>\n",
       "                        <td id=\"T_9623489e_55e5_11eb_95b4_1e294030c041row2_col0\" class=\"data row2 col0\" >9</td>\n",
       "                        <td id=\"T_9623489e_55e5_11eb_95b4_1e294030c041row2_col1\" class=\"data row2 col1\" >$4.58</td>\n",
       "                        <td id=\"T_9623489e_55e5_11eb_95b4_1e294030c041row2_col2\" class=\"data row2 col2\" >$41.22</td>\n",
       "            </tr>\n",
       "            <tr>\n",
       "                        <th id=\"T_9623489e_55e5_11eb_95b4_1e294030c041level0_row3\" class=\"row_heading level0 row3\" >132</th>\n",
       "                        <th id=\"T_9623489e_55e5_11eb_95b4_1e294030c041level1_row3\" class=\"row_heading level1 row3\" >Persuasion</th>\n",
       "                        <td id=\"T_9623489e_55e5_11eb_95b4_1e294030c041row3_col0\" class=\"data row3 col0\" >9</td>\n",
       "                        <td id=\"T_9623489e_55e5_11eb_95b4_1e294030c041row3_col1\" class=\"data row3 col1\" >$3.22</td>\n",
       "                        <td id=\"T_9623489e_55e5_11eb_95b4_1e294030c041row3_col2\" class=\"data row3 col2\" >$28.99</td>\n",
       "            </tr>\n",
       "            <tr>\n",
       "                        <th id=\"T_9623489e_55e5_11eb_95b4_1e294030c041level0_row4\" class=\"row_heading level0 row4\" >108</th>\n",
       "                        <th id=\"T_9623489e_55e5_11eb_95b4_1e294030c041level1_row4\" class=\"row_heading level1 row4\" >Extraction, Quickblade Of Trembling Hands</th>\n",
       "                        <td id=\"T_9623489e_55e5_11eb_95b4_1e294030c041row4_col0\" class=\"data row4 col0\" >9</td>\n",
       "                        <td id=\"T_9623489e_55e5_11eb_95b4_1e294030c041row4_col1\" class=\"data row4 col1\" >$3.53</td>\n",
       "                        <td id=\"T_9623489e_55e5_11eb_95b4_1e294030c041row4_col2\" class=\"data row4 col2\" >$31.77</td>\n",
       "            </tr>\n",
       "    </tbody></table>"
      ],
      "text/plain": [
       "<pandas.io.formats.style.Styler at 0x7fde8c95bd60>"
      ]
     },
     "execution_count": 154,
     "metadata": {},
     "output_type": "execute_result"
    }
   ],
   "source": [
    "#Group by price\n",
    "item_purchase_count = items_grouped['Price'].count() \n",
    "item_avg_price = items_grouped['Price'].mean() \n",
    "item_total_purchase_value = (item_purchase_count*item_avg_price) \n",
    "\n",
    "#create data frame summary table:\n",
    "popular_items_df = pd.DataFrame({\n",
    "    'Purchase Count': item_purchase_count,\n",
    "    'Item Price': item_avg_price,\n",
    "    'Total Purchase Value': item_total_purchase_value\n",
    "})\n",
    "\n",
    "#sort Popular Items values as descending:\n",
    "sorted_popular_items_df = popular_items_df.sort_values(['Purchase Count'], ascending=False).head(5)\n",
    "\n",
    "#Format summary table with appropriate styling:\n",
    "formatted_popular_items_df = sorted_popular_items_df.style.format({\n",
    "    'Item Price': \"${:,.2f}\",\n",
    "    'Total Purchase Value': \"${:,.2f}\" \n",
    "})\n",
    "\n",
    "formatted_popular_items_df\n",
    "\n"
   ]
  },
  {
   "cell_type": "markdown",
   "metadata": {},
   "source": [
    "## Most Profitable Items"
   ]
  },
  {
   "cell_type": "code",
   "execution_count": 155,
   "metadata": {
    "scrolled": true
   },
   "outputs": [
    {
     "data": {
      "text/html": [
       "<style  type=\"text/css\" >\n",
       "</style><table id=\"T_bbebb44e_55e5_11eb_95b4_1e294030c041\" ><thead>    <tr>        <th class=\"blank\" ></th>        <th class=\"blank level0\" ></th>        <th class=\"col_heading level0 col0\" >Purchase Count</th>        <th class=\"col_heading level0 col1\" >Item Price</th>        <th class=\"col_heading level0 col2\" >Total Purchase Value</th>    </tr>    <tr>        <th class=\"index_name level0\" >Item ID</th>        <th class=\"index_name level1\" >Item Name</th>        <th class=\"blank\" ></th>        <th class=\"blank\" ></th>        <th class=\"blank\" ></th>    </tr></thead><tbody>\n",
       "                <tr>\n",
       "                        <th id=\"T_bbebb44e_55e5_11eb_95b4_1e294030c041level0_row0\" class=\"row_heading level0 row0\" >92</th>\n",
       "                        <th id=\"T_bbebb44e_55e5_11eb_95b4_1e294030c041level1_row0\" class=\"row_heading level1 row0\" >Final Critic</th>\n",
       "                        <td id=\"T_bbebb44e_55e5_11eb_95b4_1e294030c041row0_col0\" class=\"data row0 col0\" >13</td>\n",
       "                        <td id=\"T_bbebb44e_55e5_11eb_95b4_1e294030c041row0_col1\" class=\"data row0 col1\" >$4.61</td>\n",
       "                        <td id=\"T_bbebb44e_55e5_11eb_95b4_1e294030c041row0_col2\" class=\"data row0 col2\" >$59.99</td>\n",
       "            </tr>\n",
       "            <tr>\n",
       "                        <th id=\"T_bbebb44e_55e5_11eb_95b4_1e294030c041level0_row1\" class=\"row_heading level0 row1\" >178</th>\n",
       "                        <th id=\"T_bbebb44e_55e5_11eb_95b4_1e294030c041level1_row1\" class=\"row_heading level1 row1\" >Oathbreaker, Last Hope of the Breaking Storm</th>\n",
       "                        <td id=\"T_bbebb44e_55e5_11eb_95b4_1e294030c041row1_col0\" class=\"data row1 col0\" >12</td>\n",
       "                        <td id=\"T_bbebb44e_55e5_11eb_95b4_1e294030c041row1_col1\" class=\"data row1 col1\" >$4.23</td>\n",
       "                        <td id=\"T_bbebb44e_55e5_11eb_95b4_1e294030c041row1_col2\" class=\"data row1 col2\" >$50.76</td>\n",
       "            </tr>\n",
       "            <tr>\n",
       "                        <th id=\"T_bbebb44e_55e5_11eb_95b4_1e294030c041level0_row2\" class=\"row_heading level0 row2\" >82</th>\n",
       "                        <th id=\"T_bbebb44e_55e5_11eb_95b4_1e294030c041level1_row2\" class=\"row_heading level1 row2\" >Nirvana</th>\n",
       "                        <td id=\"T_bbebb44e_55e5_11eb_95b4_1e294030c041row2_col0\" class=\"data row2 col0\" >9</td>\n",
       "                        <td id=\"T_bbebb44e_55e5_11eb_95b4_1e294030c041row2_col1\" class=\"data row2 col1\" >$4.90</td>\n",
       "                        <td id=\"T_bbebb44e_55e5_11eb_95b4_1e294030c041row2_col2\" class=\"data row2 col2\" >$44.10</td>\n",
       "            </tr>\n",
       "            <tr>\n",
       "                        <th id=\"T_bbebb44e_55e5_11eb_95b4_1e294030c041level0_row3\" class=\"row_heading level0 row3\" >145</th>\n",
       "                        <th id=\"T_bbebb44e_55e5_11eb_95b4_1e294030c041level1_row3\" class=\"row_heading level1 row3\" >Fiery Glass Crusader</th>\n",
       "                        <td id=\"T_bbebb44e_55e5_11eb_95b4_1e294030c041row3_col0\" class=\"data row3 col0\" >9</td>\n",
       "                        <td id=\"T_bbebb44e_55e5_11eb_95b4_1e294030c041row3_col1\" class=\"data row3 col1\" >$4.58</td>\n",
       "                        <td id=\"T_bbebb44e_55e5_11eb_95b4_1e294030c041row3_col2\" class=\"data row3 col2\" >$41.22</td>\n",
       "            </tr>\n",
       "            <tr>\n",
       "                        <th id=\"T_bbebb44e_55e5_11eb_95b4_1e294030c041level0_row4\" class=\"row_heading level0 row4\" >103</th>\n",
       "                        <th id=\"T_bbebb44e_55e5_11eb_95b4_1e294030c041level1_row4\" class=\"row_heading level1 row4\" >Singed Scalpel</th>\n",
       "                        <td id=\"T_bbebb44e_55e5_11eb_95b4_1e294030c041row4_col0\" class=\"data row4 col0\" >8</td>\n",
       "                        <td id=\"T_bbebb44e_55e5_11eb_95b4_1e294030c041row4_col1\" class=\"data row4 col1\" >$4.35</td>\n",
       "                        <td id=\"T_bbebb44e_55e5_11eb_95b4_1e294030c041row4_col2\" class=\"data row4 col2\" >$34.80</td>\n",
       "            </tr>\n",
       "    </tbody></table>"
      ],
      "text/plain": [
       "<pandas.io.formats.style.Styler at 0x7fde8c8c7850>"
      ]
     },
     "execution_count": 155,
     "metadata": {},
     "output_type": "execute_result"
    }
   ],
   "source": [
    "#Use same data as Most Popular Items but sort by Total Purchase Value:\n",
    "most_profitable_items = popular_items_df.sort_values(['Total Purchase Value'], ascending=False).head()\n",
    "#Format summary table with appropriate styling:\n",
    "formatted_most_profitable_items = most_profitable_items.style.format({\n",
    "    'Item Price': \"${:,.2f}\",\n",
    "    'Total Purchase Value': \"${:,.2f}\" \n",
    "})\n",
    "\n",
    "formatted_most_profitable_items\n"
   ]
  },
  {
   "cell_type": "code",
   "execution_count": null,
   "metadata": {},
   "outputs": [],
   "source": []
  }
 ],
 "metadata": {
  "anaconda-cloud": {},
  "kernel_info": {
   "name": "python3"
  },
  "kernelspec": {
   "display_name": "Python 3",
   "language": "python",
   "name": "python3"
  },
  "language_info": {
   "codemirror_mode": {
    "name": "ipython",
    "version": 3
   },
   "file_extension": ".py",
   "mimetype": "text/x-python",
   "name": "python",
   "nbconvert_exporter": "python",
   "pygments_lexer": "ipython3",
   "version": "3.8.5"
  },
  "latex_envs": {
   "LaTeX_envs_menu_present": true,
   "autoclose": false,
   "autocomplete": true,
   "bibliofile": "biblio.bib",
   "cite_by": "apalike",
   "current_citInitial": 1,
   "eqLabelWithNumbers": true,
   "eqNumInitial": 1,
   "hotkeys": {
    "equation": "Ctrl-E",
    "itemize": "Ctrl-I"
   },
   "labels_anchors": false,
   "latex_user_defs": false,
   "report_style_numbering": false,
   "user_envs_cfg": false
  },
  "nteract": {
   "version": "0.2.0"
  }
 },
 "nbformat": 4,
 "nbformat_minor": 2
}
